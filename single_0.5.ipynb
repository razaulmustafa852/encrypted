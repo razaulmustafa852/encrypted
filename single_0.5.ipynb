{
 "cells": [
  {
   "cell_type": "code",
   "execution_count": 156,
   "metadata": {},
   "outputs": [],
   "source": [
    "#from  scapy.all import *\n",
    "import nest_asyncio\n",
    "nest_asyncio.apply()\n",
    "import pandas as pd\n",
    "from scapy.all import *\n",
    "#files name in pcap direcoty \n",
    "import glob\n",
    "import numpy as np "
   ]
  },
  {
   "cell_type": "code",
   "execution_count": null,
   "metadata": {},
   "outputs": [],
   "source": []
  },
  {
   "cell_type": "code",
   "execution_count": 157,
   "metadata": {},
   "outputs": [],
   "source": [
    "serverIP = '10.0.0.1'"
   ]
  },
  {
   "cell_type": "code",
   "execution_count": 158,
   "metadata": {},
   "outputs": [],
   "source": [
    "folder = 'fol_1_mode_5g_trace_Driving-2_host_1_algo_conventional_protocol_tcp_server_WSGI'\n",
    "pcap =rdpcap(folder+'/h1_ap.pcap')"
   ]
  },
  {
   "cell_type": "code",
   "execution_count": 159,
   "metadata": {},
   "outputs": [],
   "source": [
    "def Average(lst): \n",
    "    return sum(lst) / len(lst) "
   ]
  },
  {
   "cell_type": "code",
   "execution_count": 160,
   "metadata": {},
   "outputs": [],
   "source": [
    "connection=[];       \n",
    "flag=True\n",
    "for ppp in pcap:                               \n",
    "    if (ppp.haslayer(TCP)):\n",
    "        if (ppp[IP].dst == '10.0.0.1'):\n",
    "            if (ppp[TCP].flags == 'FA' or ppp[TCP].flags == 'F'):\n",
    "                connection.append(ppp[TCP].sport)\n",
    "\n",
    "start=int(0)\n",
    "end_time=120\n",
    "begin=0\n",
    "# lll=len(xx)\n",
    "# aaa=xx.iloc[lll-1,0]\n",
    "# aaa=float(aaa)\n",
    "# duration=aaa"
   ]
  },
  {
   "cell_type": "code",
   "execution_count": 161,
   "metadata": {},
   "outputs": [],
   "source": [
    "#connection"
   ]
  },
  {
   "cell_type": "code",
   "execution_count": 162,
   "metadata": {},
   "outputs": [],
   "source": [
    "def Average(lst): \n",
    "    return sum(lst) / len(lst) "
   ]
  },
  {
   "cell_type": "code",
   "execution_count": null,
   "metadata": {},
   "outputs": [],
   "source": []
  },
  {
   "cell_type": "code",
   "execution_count": 174,
   "metadata": {},
   "outputs": [
    {
     "name": "stdout",
     "output_type": "stream",
     "text": [
      "[60, 52, 1500, 155, 52, 52, 1260, 114, 60, 52, 1603, 52, 52, 754, 60, 52, 1603, 52, 52, 754, 60, 52, 1500, 155, 52, 52, 1260, 314]\n",
      "1603\n",
      "[60, 52, 1500, 155, 52, 52, 1260, 114, 60, 52, 1603, 52, 52, 754, 60, 52, 1603, 52, 52, 754, 60, 52, 1500, 155, 52, 52, 1260, 314, 60, 52, 1603, 52, 52, 1260, 2446, 2948, 2948, 2948, 2948, 2948, 2948, 2948, 2948, 2948, 2948, 2948, 2948, 2948, 2948, 2948, 2948, 2948, 4396, 4396, 4396, 4396, 7292, 5637]\n",
      "7292\n",
      "[60, 52, 1500, 155, 52, 52, 1260, 114, 60, 52, 1603, 52, 52, 754, 60, 52, 1603, 52, 52, 754, 60, 52, 1500, 155, 52, 52, 1260, 314, 60, 52, 1603, 52, 52, 1260, 2446, 2948, 2948, 2948, 2948, 2948, 2948, 2948, 2948, 2948, 2948, 2948, 2948, 2948, 2948, 2948, 2948, 2948, 4396, 4396, 4396, 4396, 7292, 5637, 60, 52, 1603, 52, 52, 1260, 2446, 2948, 2948, 2948, 2948, 2948, 2948, 2948, 2948, 2948, 2948, 2948, 2948, 2948, 2948, 2948, 2948, 2948, 2948, 2948, 4396, 4396, 2948, 5844, 5844, 8740, 8740, 10188, 1500, 8740, 8740, 2948, 8740, 8740, 2948, 8740, 8740, 2948, 10188, 10188, 8740, 1500, 7292, 2948, 8740, 8740, 2948, 10188, 8740, 1500, 8740, 8740, 2948, 8740, 8740, 2948, 8740, 8740, 2948, 10188, 8740, 1500, 8740, 8740, 2948, 6610]\n",
      "10188\n"
     ]
    }
   ],
   "source": [
    "d_pk_size_gt100_05=[];d_ia_05=[];d_pk_size_05=[];u_pk_size_gt100_05=[];u_pk_size_05=[];u_ia_05=[]\n",
    "d_pk_total=0\n",
    "\n",
    "dl_05=0;dc_05=0;dt_05=begin;ut_05=begin;da_05=0;dc_gt100_05=0;uc_gt100_05=0;uc_05=0\n",
    "for i in np.arange(start, 3.5, 0.5):\n",
    "    #print(i)\n",
    "    packets_time=[]\n",
    "    for p in pcap:\n",
    "        #print(float(p.time-pcap[0].time))\n",
    "        if (p.haslayer(TCP)) and ((float(p.time-pcap[0].time))>= i) and  ((float(p.time-pcap[0].time))< i+0.5) and (p[TCP].sport in connection or p[TCP].dport in connection):\n",
    "            #print(p.time-pcap[0].time)\n",
    "            #print(p.time)\n",
    "## throughput and packet\n",
    "            if(p[IP].src== '10.0.0.1'):# downlink\n",
    "                #print(len(p[IP])*8)\n",
    "                dl_05=dl_05+(int(len(p[IP]))*8)\n",
    "                dc_05=dc_05+1\n",
    "                if int(len(p))>=100:# ignore ack pk\n",
    "                    dc_gt100_05=dc_gt100_05+1\n",
    "\n",
    "                ## ia and packet size\n",
    "                #print(p.time)\n",
    "                packets_time.append(float(p.time))\n",
    "                da_05=float(p.time-dt_05)\n",
    "                d_ia_05.append(da_05)\n",
    "                dt_05=p.time\n",
    "                d_pk_size_05.append(int(len(p[IP])))\n",
    "                if int(len(p))>=100:# ignore ack pk\n",
    "                    d_pk_size_gt100_05.append(int(len(p[IP])))\n",
    "                        \n",
    "#     print(d_ia_05)\n",
    "#     print(d_pk_size_gt100_05)\n",
    "#     print(dc_05)\n",
    "\n",
    "                if(p[IP].dst== '10.0.0.1'):# uplink\n",
    "                    ul_05=ul_05+(int(len(p[IP]))*8)\n",
    "                    uc_05=uc_05+1\n",
    "                    if int(len(p))>=100:# ignore ack pk\n",
    "                        uc_gt100_05=uc_gt100_05+1\n",
    "\n",
    "                       ## ia and packet size\n",
    "                    ua_05=float(p.time-ut_05)\n",
    "                    u_ia_05.append(ua_05)\n",
    "                    ut_05=p.time\n",
    "                    u_pk_size_05.append(int(len(p[IP])))\n",
    "                    if int(len(p))>=100:# ignore ack pk\n",
    "                        u_pk_size_gt100_05.append(int(len(p[IP]))) \n",
    "                        \n",
    "    #tpTime = [ packets_time[-1], packets_time[0] ]  \n",
    "    #print(packets_time)\n",
    "    if packets_time:\n",
    "        tpTime = packets_time[-1]- packets_time[0]\n",
    "        #here last packet time minus first packet time, divided by all packets from server\n",
    "        \n",
    "        TP=dl_05/tpTime\n",
    "        #interIntervalTime\n",
    "        interIntervalTime=tpTime\n",
    "        #total packets\n",
    "        total_packets=dc_05\n",
    "        #total packets greater than 100\n",
    "        total_packets_gt_100=d_pk_size_gt100_05\n",
    "        \n",
    "        #Average time between packets\n",
    "        time_between_each_packets = [packets_time[i + 1] - packets_time[i] for i in range(len(packets_time)-1)]\n",
    "        average = Average(time_between_each_packets)\n",
    "        #print(average)\n",
    "        packets_mean=np.mean(d_pk_size_05)\n",
    "        packets_std=np.std(d_pk_size_05)\n",
    "        packets_min=np.min(d_pk_size_05)\n",
    "        packets_median=np.median(d_pk_size_05)\n",
    "        packets_max=np.max(d_pk_size_05)\n",
    "        print(d_pk_size_05)\n",
    "        print(packets_max)\n"
   ]
  },
  {
   "cell_type": "code",
   "execution_count": null,
   "metadata": {},
   "outputs": [],
   "source": []
  },
  {
   "cell_type": "code",
   "execution_count": null,
   "metadata": {},
   "outputs": [],
   "source": []
  },
  {
   "cell_type": "code",
   "execution_count": null,
   "metadata": {},
   "outputs": [],
   "source": []
  },
  {
   "cell_type": "code",
   "execution_count": null,
   "metadata": {},
   "outputs": [],
   "source": []
  },
  {
   "cell_type": "code",
   "execution_count": null,
   "metadata": {},
   "outputs": [],
   "source": []
  },
  {
   "cell_type": "code",
   "execution_count": null,
   "metadata": {},
   "outputs": [],
   "source": []
  },
  {
   "cell_type": "code",
   "execution_count": null,
   "metadata": {},
   "outputs": [],
   "source": []
  }
 ],
 "metadata": {
  "kernelspec": {
   "display_name": "Python 3",
   "language": "python",
   "name": "python3"
  },
  "language_info": {
   "codemirror_mode": {
    "name": "ipython",
    "version": 3
   },
   "file_extension": ".py",
   "mimetype": "text/x-python",
   "name": "python",
   "nbconvert_exporter": "python",
   "pygments_lexer": "ipython3",
   "version": "3.8.3"
  }
 },
 "nbformat": 4,
 "nbformat_minor": 4
}
