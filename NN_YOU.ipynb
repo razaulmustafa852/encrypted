{
 "cells": [
  {
   "cell_type": "code",
   "execution_count": 152,
   "metadata": {},
   "outputs": [],
   "source": [
    "import matplotlib.pyplot as plt\n",
    "#plt.style.use('classic')\n",
    "%matplotlib inline\n",
    "import numpy as np\n",
    "import pandas as pd\n",
    "import seaborn as sns\n",
    "from scipy import stats\n",
    "import matplotlib.patheffects as mpe\n",
    "import matplotlib\n",
    "from imblearn.over_sampling import SMOTE\n",
    "from sklearn.model_selection import train_test_split\n",
    "from sklearn import metrics\n",
    "from sklearn.metrics import confusion_matrix, classification_report\n",
    "from sklearn import metrics\n"
   ]
  },
  {
   "cell_type": "code",
   "execution_count": 153,
   "metadata": {},
   "outputs": [],
   "source": [
    "df = pd.read_csv(\"Youtube_costarica - Sheet1.csv\")"
   ]
  },
  {
   "cell_type": "code",
   "execution_count": 154,
   "metadata": {},
   "outputs": [
    {
     "data": {
      "text/plain": [
       "Index(['ExpID', 'Case', 'Algo', 'timeslot_sec', 'timeslot_mil',\n",
       "       'InterIntervalTime', 'AveragePTime', 'AveragePTime_gt100',\n",
       "       'InterIntervalTime_gt100', 'TPT', 'T_pk', 'T_pk_gt100', '10_per_pk',\n",
       "       '20_per_pk', '30_per_pk', '40_per_pk', '50_per_pk', '60_per_pk',\n",
       "       '70_per_pk', '80_per_pk', '90_per_pk', 'Target', 'Stall', 'Target_2'],\n",
       "      dtype='object')"
      ]
     },
     "execution_count": 154,
     "metadata": {},
     "output_type": "execute_result"
    }
   ],
   "source": [
    "df.columns"
   ]
  },
  {
   "cell_type": "code",
   "execution_count": 155,
   "metadata": {},
   "outputs": [],
   "source": [
    "# g = sns.FacetGrid(df, col=\"Target_2\", hue=\"Stall\")\n",
    "# g.map(plt.scatter, \"timeslot_sec\", \"TPT\")"
   ]
  },
  {
   "cell_type": "code",
   "execution_count": 156,
   "metadata": {},
   "outputs": [],
   "source": [
    "def Classification(CLASS):\n",
    "    if CLASS >= 0 and CLASS <= 2:\n",
    "        return 'Poor'\n",
    "    elif CLASS > 2 and CLASS <= 3:\n",
    "        return 'Average'\n",
    "    elif CLASS >3 and CLASS <= 5:\n",
    "        return 'Good'"
   ]
  },
  {
   "cell_type": "code",
   "execution_count": 157,
   "metadata": {},
   "outputs": [
    {
     "data": {
      "text/plain": [
       "array(['costa_rica'], dtype=object)"
      ]
     },
     "execution_count": 157,
     "metadata": {},
     "output_type": "execute_result"
    }
   ],
   "source": [
    "df['Case'].unique()"
   ]
  },
  {
   "cell_type": "code",
   "execution_count": 158,
   "metadata": {},
   "outputs": [
    {
     "data": {
      "text/plain": [
       "Index(['ExpID', 'Case', 'Algo', 'timeslot_sec', 'timeslot_mil',\n",
       "       'InterIntervalTime', 'AveragePTime', 'AveragePTime_gt100',\n",
       "       'InterIntervalTime_gt100', 'TPT', 'T_pk', 'T_pk_gt100', '10_per_pk',\n",
       "       '20_per_pk', '30_per_pk', '40_per_pk', '50_per_pk', '60_per_pk',\n",
       "       '70_per_pk', '80_per_pk', '90_per_pk', 'Target', 'Stall', 'Target_2'],\n",
       "      dtype='object')"
      ]
     },
     "execution_count": 158,
     "metadata": {},
     "output_type": "execute_result"
    }
   ],
   "source": [
    "df.columns"
   ]
  },
  {
   "cell_type": "code",
   "execution_count": 159,
   "metadata": {},
   "outputs": [],
   "source": [
    "nan_cols = [i for i in df.columns if df[i].isnull().any()]"
   ]
  },
  {
   "cell_type": "code",
   "execution_count": 160,
   "metadata": {},
   "outputs": [
    {
     "data": {
      "text/plain": [
       "[]"
      ]
     },
     "execution_count": 160,
     "metadata": {},
     "output_type": "execute_result"
    }
   ],
   "source": [
    "nan_cols"
   ]
  },
  {
   "cell_type": "code",
   "execution_count": 161,
   "metadata": {},
   "outputs": [],
   "source": [
    "from sklearn import preprocessing\n"
   ]
  },
  {
   "cell_type": "code",
   "execution_count": 225,
   "metadata": {},
   "outputs": [],
   "source": [
    "X = df[['InterIntervalTime', 'AveragePTime', 'AveragePTime_gt100',\n",
    "       'InterIntervalTime_gt100', 'TPT', 'T_pk', 'T_pk_gt100', '10_per_pk',\n",
    "       '20_per_pk', '30_per_pk', '40_per_pk', '50_per_pk', '60_per_pk',\n",
    "       '70_per_pk', '80_per_pk', '90_per_pk']]\n",
    "y = df['Target_2']"
   ]
  },
  {
   "cell_type": "code",
   "execution_count": 226,
   "metadata": {},
   "outputs": [
    {
     "data": {
      "text/plain": [
       "Index(['InterIntervalTime', 'AveragePTime', 'AveragePTime_gt100',\n",
       "       'InterIntervalTime_gt100', 'TPT', 'T_pk', 'T_pk_gt100', '10_per_pk',\n",
       "       '20_per_pk', '30_per_pk', '40_per_pk', '50_per_pk', '60_per_pk',\n",
       "       '70_per_pk', '80_per_pk', '90_per_pk'],\n",
       "      dtype='object')"
      ]
     },
     "execution_count": 226,
     "metadata": {},
     "output_type": "execute_result"
    }
   ],
   "source": [
    "X.columns"
   ]
  },
  {
   "cell_type": "code",
   "execution_count": 227,
   "metadata": {},
   "outputs": [],
   "source": [
    "# X=preprocessing.normalize(X)\n",
    "X= preprocessing.scale(X)"
   ]
  },
  {
   "cell_type": "code",
   "execution_count": 228,
   "metadata": {},
   "outputs": [
    {
     "data": {
      "text/plain": [
       "array(['Medium', 'High', 'Low'], dtype=object)"
      ]
     },
     "execution_count": 228,
     "metadata": {},
     "output_type": "execute_result"
    }
   ],
   "source": [
    "y.unique()"
   ]
  },
  {
   "cell_type": "code",
   "execution_count": 229,
   "metadata": {},
   "outputs": [],
   "source": [
    "# X.shape[0]"
   ]
  },
  {
   "cell_type": "code",
   "execution_count": 230,
   "metadata": {},
   "outputs": [],
   "source": [
    "sm = SMOTE()\n",
    "X, y = sm.fit_sample(X, y)"
   ]
  },
  {
   "cell_type": "code",
   "execution_count": 231,
   "metadata": {},
   "outputs": [],
   "source": [
    "# X.shape[0]"
   ]
  },
  {
   "cell_type": "code",
   "execution_count": 232,
   "metadata": {},
   "outputs": [],
   "source": [
    "import pandas\n",
    "from keras.models import Sequential\n",
    "from keras.layers import Dense\n",
    "from keras.wrappers.scikit_learn import KerasClassifier\n",
    "from keras.utils import np_utils\n",
    "from sklearn.model_selection import cross_val_score\n",
    "from sklearn.model_selection import KFold\n",
    "from sklearn.preprocessing import LabelEncoder\n",
    "from sklearn.pipeline import Pipeline\n",
    "encoder = LabelEncoder()\n",
    "encoder.fit(y)\n",
    "encoded_Y = encoder.transform(y)\n",
    "# convert integers to dummy variables (i.e. one hot encoded)\n",
    "dummy_y = np_utils.to_categorical(encoded_Y)"
   ]
  },
  {
   "cell_type": "code",
   "execution_count": 233,
   "metadata": {},
   "outputs": [
    {
     "data": {
      "text/plain": [
       "array([[0., 0., 1.],\n",
       "       [0., 0., 1.],\n",
       "       [0., 0., 1.],\n",
       "       ...,\n",
       "       [0., 0., 1.],\n",
       "       [0., 0., 1.],\n",
       "       [0., 0., 1.]], dtype=float32)"
      ]
     },
     "execution_count": 233,
     "metadata": {},
     "output_type": "execute_result"
    }
   ],
   "source": [
    "dummy_y"
   ]
  },
  {
   "cell_type": "code",
   "execution_count": 235,
   "metadata": {},
   "outputs": [],
   "source": [
    "def baseline_model():\n",
    "    # create model\n",
    "    model = Sequential()\n",
    "    model.add(Dense(50, input_dim=16,kernel_initializer = 'uniform',  activation='relu'))\n",
    "    model.add(Dense(150,kernel_initializer = 'uniform',  activation='relu'))\n",
    "    model.add(Dense(250,kernel_initializer = 'uniform',  activation='relu'))\n",
    "\n",
    "    model.add(Dense(3, activation='softmax'))\n",
    "    # Compile model\n",
    "    model.compile(loss='categorical_crossentropy', optimizer='adam', metrics=['accuracy'])\n",
    "    return model\n",
    "\n"
   ]
  },
  {
   "cell_type": "code",
   "execution_count": 236,
   "metadata": {},
   "outputs": [
    {
     "name": "stdout",
     "output_type": "stream",
     "text": [
      "Baseline: 73.30% (2.49%)\n"
     ]
    }
   ],
   "source": [
    "estimator = KerasClassifier(build_fn=baseline_model, epochs=500, batch_size=5, verbose=0)\n",
    "kfold = KFold(n_splits=5, shuffle=True)\n",
    "results = cross_val_score(estimator, X, dummy_y, cv=kfold)\n",
    "print(\"Baseline: %.2f%% (%.2f%%)\" % (results.mean()*100, results.std()*100))"
   ]
  },
  {
   "cell_type": "raw",
   "metadata": {},
   "source": []
  },
  {
   "cell_type": "code",
   "execution_count": 237,
   "metadata": {},
   "outputs": [
    {
     "name": "stdout",
     "output_type": "stream",
     "text": [
      "[0.72535211 0.71830988 0.77464789 0.74468082 0.70212764]\n"
     ]
    }
   ],
   "source": [
    "print(results)"
   ]
  },
  {
   "cell_type": "code",
   "execution_count": 238,
   "metadata": {},
   "outputs": [],
   "source": [
    "# estimator.fit(X_train, y_train)\n",
    "# predictions = estimator.predict(X_test)\n",
    "#print(predictions)"
   ]
  },
  {
   "cell_type": "code",
   "execution_count": 239,
   "metadata": {},
   "outputs": [],
   "source": [
    "# print(encoder.inverse_transform(predictions))"
   ]
  },
  {
   "cell_type": "code",
   "execution_count": 240,
   "metadata": {},
   "outputs": [],
   "source": [
    "X_train, X_test, Y_train, Y_test = train_test_split(X, dummy_y, test_size=0.3)\n",
    "estimator.fit(X_train, Y_train)\n",
    "predictions = estimator.predict(X_test)"
   ]
  },
  {
   "cell_type": "code",
   "execution_count": 241,
   "metadata": {},
   "outputs": [
    {
     "name": "stdout",
     "output_type": "stream",
     "text": [
      "1\n",
      "['Low' 'High' 'Low' 'High' 'Low' 'Medium' 'Low' 'Medium' 'Medium' 'High'\n",
      " 'Low' 'Low' 'High' 'High' 'High' 'Low' 'Low' 'Low' 'Low' 'Low' 'Medium'\n",
      " 'Low' 'Medium' 'Low' 'Medium' 'Low' 'Low' 'Low' 'High' 'Low' 'High'\n",
      " 'Medium' 'High' 'Medium' 'Low' 'Medium' 'High' 'Low' 'High' 'Medium'\n",
      " 'Low' 'Low' 'Low' 'Medium' 'Low' 'Low' 'Low' 'Medium' 'Low' 'High'\n",
      " 'Medium' 'Low' 'High' 'Medium' 'High' 'Medium' 'Low' 'Low' 'High' 'Low'\n",
      " 'Medium' 'Low' 'Medium' 'Medium' 'Medium' 'Medium' 'Low' 'Medium' 'Low'\n",
      " 'High' 'High' 'High' 'Medium' 'High' 'High' 'Medium' 'High' 'High'\n",
      " 'Medium' 'Medium' 'Low' 'Low' 'Medium' 'Medium' 'Medium' 'Medium'\n",
      " 'Medium' 'High' 'High' 'High' 'Low' 'High' 'Low' 'Medium' 'High' 'High'\n",
      " 'Low' 'Medium' 'Low' 'Low' 'Low' 'High' 'High' 'Low' 'Low' 'Low' 'Medium'\n",
      " 'Medium' 'High' 'High' 'Low' 'Low' 'Medium' 'Medium' 'High' 'Low'\n",
      " 'Medium' 'High' 'Medium' 'Low' 'Medium' 'Medium' 'Low' 'Low' 'High'\n",
      " 'High' 'High' 'Medium' 'High' 'High' 'High' 'High' 'Low' 'Low' 'High'\n",
      " 'Low' 'Medium' 'Medium' 'Low' 'Medium' 'Medium' 'Medium' 'Medium' 'Low'\n",
      " 'High' 'Medium' 'High' 'Low' 'High' 'Medium' 'Medium' 'High' 'Low'\n",
      " 'Medium' 'Medium' 'Medium' 'High' 'High' 'High' 'Low' 'Medium' 'Medium'\n",
      " 'Medium' 'Low' 'High' 'High' 'Medium' 'Medium' 'Low' 'High' 'Medium'\n",
      " 'High' 'High' 'Medium' 'Medium' 'Medium' 'High' 'Low' 'High' 'High'\n",
      " 'High' 'High' 'High' 'High' 'Low' 'Medium' 'Medium' 'High' 'Medium' 'Low'\n",
      " 'High' 'High' 'High' 'Low' 'Medium' 'Low' 'Low' 'High' 'Low' 'Low'\n",
      " 'Medium' 'Medium' 'Medium' 'Low' 'High' 'High' 'Low' 'Low' 'Low' 'High'\n",
      " 'Medium' 'High' 'High']\n"
     ]
    }
   ],
   "source": [
    "print(predictions[0])\n",
    "print(encoder.inverse_transform(predictions))"
   ]
  },
  {
   "cell_type": "code",
   "execution_count": 242,
   "metadata": {},
   "outputs": [
    {
     "data": {
      "text/plain": [
       "array([0., 1., 0.], dtype=float32)"
      ]
     },
     "execution_count": 242,
     "metadata": {},
     "output_type": "execute_result"
    }
   ],
   "source": [
    "Y_test[0]"
   ]
  },
  {
   "cell_type": "code",
   "execution_count": 243,
   "metadata": {},
   "outputs": [
    {
     "data": {
      "text/plain": [
       "1"
      ]
     },
     "execution_count": 243,
     "metadata": {},
     "output_type": "execute_result"
    }
   ],
   "source": [
    "import numpy as np\n",
    "rounded_labels=np.argmax(Y_test, axis=1)\n",
    "rounded_labels[3]\n",
    "# 2"
   ]
  },
  {
   "cell_type": "code",
   "execution_count": 244,
   "metadata": {},
   "outputs": [
    {
     "data": {
      "text/plain": [
       "array([[48, 16,  4],\n",
       "       [19, 53,  8],\n",
       "       [ 4,  3, 58]])"
      ]
     },
     "execution_count": 244,
     "metadata": {},
     "output_type": "execute_result"
    }
   ],
   "source": [
    "from sklearn.metrics import confusion_matrix\n",
    "cm = confusion_matrix(rounded_labels, predictions)\n",
    "cm"
   ]
  },
  {
   "cell_type": "code",
   "execution_count": 245,
   "metadata": {},
   "outputs": [
    {
     "name": "stdout",
     "output_type": "stream",
     "text": [
      "              precision    recall  f1-score   support\n",
      "\n",
      "           0       0.68      0.71      0.69        68\n",
      "           1       0.74      0.66      0.70        80\n",
      "           2       0.83      0.89      0.86        65\n",
      "\n",
      "    accuracy                           0.75       213\n",
      "   macro avg       0.75      0.75      0.75       213\n",
      "weighted avg       0.75      0.75      0.74       213\n",
      "\n"
     ]
    }
   ],
   "source": [
    "print(classification_report(rounded_labels, predictions))"
   ]
  },
  {
   "cell_type": "code",
   "execution_count": 246,
   "metadata": {},
   "outputs": [
    {
     "name": "stdout",
     "output_type": "stream",
     "text": [
      "Accuracy is 0.75\n"
     ]
    }
   ],
   "source": [
    "from sklearn.metrics import classification_report\n",
    "from sklearn.metrics import accuracy_score\n",
    "accuracy_score(rounded_labels, predictions)\n",
    "print('Accuracy is ' + str(round(accuracy_score(rounded_labels, predictions),2)))"
   ]
  },
  {
   "cell_type": "code",
   "execution_count": 247,
   "metadata": {},
   "outputs": [],
   "source": [
    "cm = cm.astype('float') / cm.sum(axis=1)[:, np.newaxis]"
   ]
  },
  {
   "cell_type": "code",
   "execution_count": 248,
   "metadata": {},
   "outputs": [],
   "source": [
    "cmn= np.around(cm / cm.astype(np.float).sum(axis=1, keepdims=True),2) "
   ]
  },
  {
   "cell_type": "code",
   "execution_count": 249,
   "metadata": {},
   "outputs": [
    {
     "data": {
      "text/plain": [
       "array([[0.71, 0.24, 0.06],\n",
       "       [0.24, 0.66, 0.1 ],\n",
       "       [0.06, 0.05, 0.89]])"
      ]
     },
     "execution_count": 249,
     "metadata": {},
     "output_type": "execute_result"
    }
   ],
   "source": [
    "cmn"
   ]
  },
  {
   "cell_type": "code",
   "execution_count": null,
   "metadata": {},
   "outputs": [],
   "source": []
  },
  {
   "cell_type": "code",
   "execution_count": null,
   "metadata": {},
   "outputs": [],
   "source": []
  },
  {
   "cell_type": "code",
   "execution_count": null,
   "metadata": {},
   "outputs": [],
   "source": []
  },
  {
   "cell_type": "code",
   "execution_count": null,
   "metadata": {},
   "outputs": [],
   "source": []
  },
  {
   "cell_type": "code",
   "execution_count": null,
   "metadata": {},
   "outputs": [],
   "source": []
  },
  {
   "cell_type": "code",
   "execution_count": null,
   "metadata": {},
   "outputs": [],
   "source": []
  },
  {
   "cell_type": "code",
   "execution_count": null,
   "metadata": {},
   "outputs": [],
   "source": []
  }
 ],
 "metadata": {
  "kernelspec": {
   "display_name": "Python 3",
   "language": "python",
   "name": "python3"
  },
  "language_info": {
   "codemirror_mode": {
    "name": "ipython",
    "version": 3
   },
   "file_extension": ".py",
   "mimetype": "text/x-python",
   "name": "python",
   "nbconvert_exporter": "python",
   "pygments_lexer": "ipython3",
   "version": "3.8.3"
  }
 },
 "nbformat": 4,
 "nbformat_minor": 4
}
